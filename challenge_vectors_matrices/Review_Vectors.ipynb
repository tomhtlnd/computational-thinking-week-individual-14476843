{
 "cells": [
  {
   "attachments": {},
   "cell_type": "markdown",
   "id": "e906e58b",
   "metadata": {},
   "source": [
    "Welcome to the review of vectors and matrices. Vectors and matrices provide a foundation for various mathematical operations, your understanding of them will be essential for effectively exploring and interpreting real-world social data. By the end of this review, I hope you'll be familiar with basic data manipulation and get a feel for how powerful they can be."
   ]
  },
  {
   "attachments": {},
   "cell_type": "markdown",
   "id": "e44817be",
   "metadata": {},
   "source": [
    "## Learning goals\n",
    "Refresh your knowledge of vectors and matrices:\n",
    "- Vector (column) addition, subtraction, multiplication\n",
    "- Data merging and deleting\n",
    "- Data filtering and grouping"
   ]
  },
  {
   "attachments": {},
   "cell_type": "markdown",
   "id": "6faa8bd0",
   "metadata": {},
   "source": [
    "# Background story"
   ]
  },
  {
   "attachments": {},
   "cell_type": "markdown",
   "id": "1ad4f614",
   "metadata": {},
   "source": [
    "At the end of one year, a trading company has hired you to help them calculate their trading results. The company is connecting to a large number of buyers, each of them has bought a number of products from them. The products of the company are in three different categories: Toys, Decorations and Clothing. For each product, they recorded its price (as Unit_Price in the unit of dollars) and the quantity sold (Sales_Quantity). They also inclueded its price and the quantity sold last year (as Unit_Price_Last_Year and Sales_Quantity_Last_Year). The recorded data is stored in the table \"data_company_A_external.csv\".\n",
    "\n",
    "Use your knowledge of vector manipulation to help them in the following questions.\n",
    "\n",
    "Note: All the data in this file are not real data, the actual situation will be more complicated than this."
   ]
  },
  {
   "cell_type": "code",
   "execution_count": 2,
   "id": "cd584357",
   "metadata": {},
   "outputs": [],
   "source": [
    "import base64\n",
    "import numpy as np\n",
    "import pandas as pd\n",
    "import matplotlib.pyplot as plt"
   ]
  },
  {
   "cell_type": "code",
   "execution_count": 3,
   "id": "6eda4f6b",
   "metadata": {},
   "outputs": [],
   "source": [
    "# Read your data\n",
    "external_df = pd.read_csv('data_company_A_external.csv')"
   ]
  },
  {
   "attachments": {},
   "cell_type": "markdown",
   "id": "8cb7e486",
   "metadata": {},
   "source": [
    "# Bronze medal: Vector (column) addition, multiplication\n",
    "\n",
    "a) As an important parameter of the trading status for this year, they wish they can know their total sales value for this year. The sales value of one product is the unit price ($) times the sales quantity (number). The value of total sales is the value of all product sales combined. And this is exactly the dot product of vectors.\n",
    "\n",
    "In other words, the equations of sales are:\n",
    "\n",
    "#### $\\text{Sales}_{\\text{ for one product}} = \\text{Unit Price} \\times \\text{Sales Quantity}$\n",
    "\n",
    "#### $\\text{Total Sales} = \\text{Sum of sales for all products}$\n",
    "\n",
    "If $V_{\\text{Unit Price}}$ is the vector representing all unit price, and $V_{\\text{Sales Quantity}}$ is the one for sales quantity, the equation will be:\n",
    "\n",
    "### $V_{\\text{Total Sales}} = V_{\\text{Unit Price}} \\cdot V_{\\text{Sales Quantity}}$\n",
    "\n",
    "Can you help them calculate their total sales for this year? (Try to manipulate on the entire column rather than each product)"
   ]
  },
  {
   "cell_type": "code",
   "execution_count": 4,
   "id": "3f10efd1",
   "metadata": {},
   "outputs": [
    {
     "data": {
      "text/html": [
       "<div>\n",
       "<style scoped>\n",
       "    .dataframe tbody tr th:only-of-type {\n",
       "        vertical-align: middle;\n",
       "    }\n",
       "\n",
       "    .dataframe tbody tr th {\n",
       "        vertical-align: top;\n",
       "    }\n",
       "\n",
       "    .dataframe thead th {\n",
       "        text-align: right;\n",
       "    }\n",
       "</style>\n",
       "<table border=\"1\" class=\"dataframe\">\n",
       "  <thead>\n",
       "    <tr style=\"text-align: right;\">\n",
       "      <th></th>\n",
       "      <th>Buyer_ID</th>\n",
       "      <th>Product_Index</th>\n",
       "      <th>Category</th>\n",
       "      <th>Unit_Price</th>\n",
       "      <th>Sales_Quantity</th>\n",
       "      <th>Unit_Price_Last_Year</th>\n",
       "      <th>Sales_Quantity_Last_Year</th>\n",
       "    </tr>\n",
       "  </thead>\n",
       "  <tbody>\n",
       "    <tr>\n",
       "      <th>0</th>\n",
       "      <td>KISSJ</td>\n",
       "      <td>15796</td>\n",
       "      <td>Decorations</td>\n",
       "      <td>0.93</td>\n",
       "      <td>13585</td>\n",
       "      <td>0.93</td>\n",
       "      <td>13585</td>\n",
       "    </tr>\n",
       "    <tr>\n",
       "      <th>1</th>\n",
       "      <td>KISSJ</td>\n",
       "      <td>15797</td>\n",
       "      <td>Decorations</td>\n",
       "      <td>2.31</td>\n",
       "      <td>7980</td>\n",
       "      <td>2.31</td>\n",
       "      <td>7980</td>\n",
       "    </tr>\n",
       "    <tr>\n",
       "      <th>2</th>\n",
       "      <td>KISSJ</td>\n",
       "      <td>15798</td>\n",
       "      <td>Toys</td>\n",
       "      <td>12.18</td>\n",
       "      <td>2153</td>\n",
       "      <td>12.18</td>\n",
       "      <td>2153</td>\n",
       "    </tr>\n",
       "    <tr>\n",
       "      <th>3</th>\n",
       "      <td>KISSJ</td>\n",
       "      <td>15799</td>\n",
       "      <td>Toys</td>\n",
       "      <td>1.46</td>\n",
       "      <td>21601</td>\n",
       "      <td>1.46</td>\n",
       "      <td>21601</td>\n",
       "    </tr>\n",
       "    <tr>\n",
       "      <th>4</th>\n",
       "      <td>KISSJ</td>\n",
       "      <td>15800</td>\n",
       "      <td>Decorations</td>\n",
       "      <td>4.23</td>\n",
       "      <td>9513</td>\n",
       "      <td>4.23</td>\n",
       "      <td>9513</td>\n",
       "    </tr>\n",
       "  </tbody>\n",
       "</table>\n",
       "</div>"
      ],
      "text/plain": [
       "  Buyer_ID  Product_Index     Category  Unit_Price  Sales_Quantity  \\\n",
       "0    KISSJ          15796  Decorations        0.93           13585   \n",
       "1    KISSJ          15797  Decorations        2.31            7980   \n",
       "2    KISSJ          15798         Toys       12.18            2153   \n",
       "3    KISSJ          15799         Toys        1.46           21601   \n",
       "4    KISSJ          15800  Decorations        4.23            9513   \n",
       "\n",
       "   Unit_Price_Last_Year  Sales_Quantity_Last_Year  \n",
       "0                  0.93                     13585  \n",
       "1                  2.31                      7980  \n",
       "2                 12.18                      2153  \n",
       "3                  1.46                     21601  \n",
       "4                  4.23                      9513  "
      ]
     },
     "execution_count": 4,
     "metadata": {},
     "output_type": "execute_result"
    }
   ],
   "source": [
    "external_df.head()"
   ]
  },
  {
   "cell_type": "code",
   "execution_count": 5,
   "id": "229e6313",
   "metadata": {},
   "outputs": [
    {
     "name": "stdout",
     "output_type": "stream",
     "text": [
      "The total sales this year is: 20348107.40\n"
     ]
    }
   ],
   "source": [
    "# Complete this function to print the total sales\n",
    "def compute_total_sales(df):\n",
    "    external_df['Sales'] = external_df['Unit_Price'] * external_df['Sales_Quantity']\n",
    "    total_sales = external_df['Sales'].sum()\n",
    "    return total_sales\n",
    "\n",
    "print(\"The total sales this year is: {:.2f}\".format(compute_total_sales(external_df)))"
   ]
  },
  {
   "cell_type": "code",
   "execution_count": 6,
   "id": "90c21a45-eab8-4f35-bd7d-298932aa4f08",
   "metadata": {},
   "outputs": [
    {
     "name": "stdout",
     "output_type": "stream",
     "text": [
      "def compute_total_sales(df):\n",
      "    total_sales = df['Unit_Price'].dot(df['Sales_Quantity'])\n",
      "    return total_sales\n",
      "\n",
      "The total sales this year is: 20348107.40\n"
     ]
    }
   ],
   "source": [
    "# Run the following code to show one of the possible answer\n",
    "print(base64.b64decode(\"ZGVmIGNvbXB1dGVfdG90YWxfc2FsZXMoZGYpOgogICAgdG90YWxfc2FsZXMgPSBkZlsnVW5pdF9QcmljZSddLmRvdChkZlsnU2FsZXNfUXVhbnRpdHknXSkKICAgIHJldHVybiB0b3RhbF9zYWxlcwoKVGhlIHRvdGFsIHNhbGVzIHRoaXMgeWVhciBpczogMjAzNDgxMDcuNDA=\").decode())"
   ]
  },
  {
   "attachments": {},
   "cell_type": "markdown",
   "id": "9cdc0d28-c9e5-424d-85c6-a8dc12257198",
   "metadata": {},
   "source": [
    "b) Their data also contains information from last year. So we can calculate growth and growth rate of total sales compared to last year.\n",
    "\n",
    "The growth and growth rate are parameters that describes how much a particular variable, like total sales here, has grown over a period of time. Growth of total sales is calculated by subtracting the total sales of the previous year from the total sales of the current year. It answers the question, \"By how much did our sales figures change when compared to last year?\"\n",
    "\n",
    "Mathematically, the formula to calculate sales growth is:\n",
    "\n",
    "$ \\text{Growth} = \\text{Total Sales This Year} - \\text{Total Sales Last Year} $\n",
    "\n",
    "And growth rate is typically expressed as a percentage of the initial value and can be calculated using the formula:\n",
    "\n",
    "$ \\text{Growth Rate} = \\left( \\frac{{\\text{Growth}}}{{\\text{Total Sales Last Year}}} \\right) \\times 100 $\n",
    "\n",
    "Can you help them calculate what the growth and growth rate?"
   ]
  },
  {
   "cell_type": "code",
   "execution_count": 7,
   "id": "5028e108",
   "metadata": {},
   "outputs": [
    {
     "name": "stdout",
     "output_type": "stream",
     "text": [
      "Growth: 137616.03\n",
      "Growth Rate: 0.68 %\n"
     ]
    }
   ],
   "source": [
    "# Complete these two function to print the growth and growth rate\n",
    "\n",
    "def compute_growth(df):\n",
    "    total_sales = df['Unit_Price'].dot(df['Sales_Quantity'])\n",
    "    total_sales_last = df['Unit_Price_Last_Year'].dot(df['Sales_Quantity_Last_Year'])\n",
    "    growth = total_sales - total_sales_last\n",
    "    return growth\n",
    "\n",
    "def compute_growth_rate(df):\n",
    "    total_sales_last = df['Unit_Price'].dot(df['Sales_Quantity_Last_Year'])\n",
    "    growthRate = (compute_growth(df) / total_sales_last) * 100\n",
    "    return growthRate\n",
    "\n",
    "print(\"Growth: {:.2f}\".format( compute_growth(external_df)))\n",
    "print(\"Growth Rate: {:.2f} %\".format( compute_growth_rate(external_df)))"
   ]
  },
  {
   "attachments": {},
   "cell_type": "markdown",
   "id": "50c09e47",
   "metadata": {},
   "source": [
    "# Silver medal: Database merging and deleting\n",
    "\n",
    "a) In a further step, the company wanted to know how much money it had made this year. For this purpose, they provide another internal dataset for this year that captures the profit margin for each product, the promotional inputs they spend, and fixed costs as the sum of other expenses.\n",
    "\n",
    "The equation for the total profit is:\n",
    "\n",
    "### $\\text{Total Profit} = \\sum \\left( \\text{Sales} \\times \\text{Profit Margin} - \\text{Fixed Costs} \\right)$\n",
    "\n",
    "The sales here is the sales for one prodoct, and the summation sumes over all products.\n",
    "\n",
    "Can you combine these two sets of data into one and calculate the total profit?"
   ]
  },
  {
   "cell_type": "code",
   "execution_count": 8,
   "id": "7bf0b45c-1f80-497d-a754-569e0c5e7070",
   "metadata": {},
   "outputs": [],
   "source": [
    "# You may need to import the internal data\n",
    "# TO DO"
   ]
  },
  {
   "cell_type": "code",
   "execution_count": 9,
   "id": "9993a907-0eae-4922-ad3d-2c3df5d81557",
   "metadata": {},
   "outputs": [],
   "source": [
    "# You can combine these two sets of data here\n",
    "merged_df = None # TO DO"
   ]
  },
  {
   "cell_type": "code",
   "execution_count": 10,
   "id": "7a643cb0",
   "metadata": {},
   "outputs": [
    {
     "ename": "TypeError",
     "evalue": "unsupported format string passed to NoneType.__format__",
     "output_type": "error",
     "traceback": [
      "\u001b[0;31m---------------------------------------------------------------------------\u001b[0m",
      "\u001b[0;31mTypeError\u001b[0m                                 Traceback (most recent call last)",
      "\u001b[1;32m/Users/tom/Documents/GitHub/computational-thinking-week-individual-14476843/challenge_vectors_matrices/Review_Vectors.ipynb Cell 16\u001b[0m in \u001b[0;36m<cell line: 7>\u001b[0;34m()\u001b[0m\n\u001b[1;32m      <a href='vscode-notebook-cell:/Users/tom/Documents/GitHub/computational-thinking-week-individual-14476843/challenge_vectors_matrices/Review_Vectors.ipynb#X21sZmlsZQ%3D%3D?line=3'>4</a>\u001b[0m     \u001b[39mpass\u001b[39;00m\n\u001b[1;32m      <a href='vscode-notebook-cell:/Users/tom/Documents/GitHub/computational-thinking-week-individual-14476843/challenge_vectors_matrices/Review_Vectors.ipynb#X21sZmlsZQ%3D%3D?line=4'>5</a>\u001b[0m     \u001b[39mreturn\u001b[39;00m \u001b[39m# TO DO\u001b[39;00m\n\u001b[0;32m----> <a href='vscode-notebook-cell:/Users/tom/Documents/GitHub/computational-thinking-week-individual-14476843/challenge_vectors_matrices/Review_Vectors.ipynb#X21sZmlsZQ%3D%3D?line=6'>7</a>\u001b[0m \u001b[39mprint\u001b[39m(\u001b[39mf\u001b[39m\u001b[39m\"\u001b[39m\u001b[39mTotal Profit: \u001b[39m\u001b[39m{\u001b[39;00mcompute_total_profit(merged_df)\u001b[39m:\u001b[39;00m\u001b[39m.2f\u001b[39m\u001b[39m}\u001b[39;00m\u001b[39m\"\u001b[39m)\n",
      "\u001b[0;31mTypeError\u001b[0m: unsupported format string passed to NoneType.__format__"
     ]
    }
   ],
   "source": [
    "# Start to calculate the total profit\n",
    "def compute_total_profit(merged_df):\n",
    "    # TO DO\n",
    "    pass\n",
    "    return # TO DO\n",
    "\n",
    "print(f\"Total Profit: {compute_total_profit(merged_df):.2f}\")"
   ]
  },
  {
   "attachments": {},
   "cell_type": "markdown",
   "id": "265d6ca4",
   "metadata": {},
   "source": [
    "b) Two buyers (buyer IDs: \"IFKKSE\" and \"IFYWAB\") cancelled their orders on short notice. In this case we would like to delete the corresponding products and calculate the new profit."
   ]
  },
  {
   "cell_type": "code",
   "execution_count": null,
   "id": "af76ab21",
   "metadata": {},
   "outputs": [],
   "source": [
    "# Start to calculate new profit after removing certain buyers\n",
    "def compute_profit_delete(df):\n",
    "    # TO DO\n",
    "    pass\n",
    "    return # TO DO\n",
    "\n",
    "print(f\"New Profit: {compute_profit_delete(merged_df):.2f}\")"
   ]
  },
  {
   "attachments": {},
   "cell_type": "markdown",
   "id": "a033601a",
   "metadata": {},
   "source": [
    "c) While in practice, it is often not possible to simply delete entries from the database. Technically, this can cause problems for other functions that depend on the entry. And in the commercial sector, there are often additional trading rules to solve these problems.\n",
    "\n",
    "Now let's assume that a common treatment taken by this company is to return the products to the manufacturer. And when they return the corresponding products to the manufacturer, the manufacturer refunds them only 80% of the unit price.\n",
    "\n",
    "Can you calculate the profit in this case? Do you need to re-import the database when you complete this step?"
   ]
  },
  {
   "cell_type": "code",
   "execution_count": null,
   "id": "28100311",
   "metadata": {},
   "outputs": [],
   "source": [
    "# Start to calculate profit with refunds from manufacturer\n",
    "def compute_profit_refund(df):\n",
    "    # TO DO\n",
    "    pass\n",
    "    return # TO DO\n",
    "\n",
    "print(f\"Profit with Adjustments: {compute_profit_refund(merged_df):.2f}\")"
   ]
  },
  {
   "attachments": {},
   "cell_type": "markdown",
   "id": "80137b3e",
   "metadata": {},
   "source": [
    "# Gold medal: Data filtering and grouping\n",
    "\n",
    "a) We would like to discover further information hidden in the data. Can you plot sales against promotional inputs and check if some kind of pattern exists? \n",
    "\n",
    "If you have found some patterns, you can move on to the next question. If not, at the end of this content (the part marked by *) we have provided two hints for you to use at your leisure.\n",
    "\n",
    "(Note again, the patterns in this question is not the actual law of the market.)"
   ]
  },
  {
   "cell_type": "code",
   "execution_count": null,
   "id": "4cac80b2-b920-4519-afbf-7384074a717f",
   "metadata": {},
   "outputs": [],
   "source": []
  },
  {
   "attachments": {},
   "cell_type": "markdown",
   "id": "31627561",
   "metadata": {},
   "source": [
    "b) According to the observed patterns, if there is a product belonging to the \"Decorations\" category and the company spends $15,000 on its promotional input, how many sales can be expected? (Try to estimate its value, or choose an answer from the following options)"
   ]
  },
  {
   "cell_type": "code",
   "execution_count": null,
   "id": "c96b671d",
   "metadata": {},
   "outputs": [],
   "source": [
    "# start estimating the sales, you could import other package if you want.\n",
    "def estimate_sales(df):\n",
    "    # TO DO\n",
    "    pass\n",
    "    return # TO DO\n",
    "\n",
    "# Select an answer for the sales prediction, pay attention that the dictionary key is capitalized.\n",
    "def select_answer(df):\n",
    "    answer_ranges = {\n",
    "        'A': 'Between 30000 and 34000',\n",
    "        'B': 'Between 34000 and 38000',\n",
    "        'C': 'Between 38000 and 42000',\n",
    "        'D': 'Between 42000 and 46000',\n",
    "        'E': 'Between 46000 and 50000',\n",
    "        'F': 'Between 50000 and 60000',\n",
    "    }\n",
    "    return # TO DO, solution can be selected here\n",
    "\n",
    "if select_answer(merged_df) is None:\n",
    "    print(\"Estimated sales for a Decorations product with $15,000 in promotional inputs: {:.2f}\".format(estimate_sales(merged_df)))\n",
    "else:\n",
    "    print(\"Estimated sales for a Decorations product with $15,000 in promotional inputs: {:s}\".format(select_answer(merged_df)))"
   ]
  },
  {
   "attachments": {},
   "cell_type": "markdown",
   "id": "4abf85c3",
   "metadata": {},
   "source": [
    "*: Here are two hints for the gold Medal, they will make this task easier. You can try to find the pattern by yourself and then check the hints at some point later."
   ]
  },
  {
   "cell_type": "code",
   "execution_count": null,
   "id": "b215c0c5-45c8-4abc-87f6-5284b5518c07",
   "metadata": {},
   "outputs": [],
   "source": [
    "# Run the following code to show hint 1\n",
    "print(base64.b64decode(\"SGludCAxOiBUaGUgdGFibGUgY29udGFpbnMgYWxsIGtpbmRzIG9mIHByb2R1Y3RzIG9mIHRoZSBjb21wYW55LCB3aGljaCBtYXkgYWxzbyBjb250YWluIHNwZWNpYWwgcHJvZHVjdHMgb3IgcHJvZHVjdHMgc29sZCB0aHJvdWdoIHNwZWNpYWwgbWV0aG9kcy4gU3VjaCBwcm9kdWN0cyBhcmUgY2hhcmFjdGVyaXplZCBieSB0aGUgZmFjdCB0aGF0IHRoZXkgd2lsbCB1c3VhbGx5IGhhdmUgZXhjZXB0aW9uYWxseSBoaWdoIG9yIGxvdyBwcm9maXQgbWFyZ2lucy4=\").decode())"
   ]
  },
  {
   "cell_type": "code",
   "execution_count": null,
   "id": "170f6f35-86b9-459f-a2e2-d4aa8449d517",
   "metadata": {},
   "outputs": [],
   "source": [
    "# Run the following code to show hint 2\n",
    "print(base64.b64decode(\"SGludCAyOiBEaWZmZXJlbnQgcHJvZHVjdCBjYXRlZ29yaWVzIGhhdmUgZGlmZmVyZW50IG1hcmtldHMgYW5kIG1heSBoYXZlIGRpZmZlcmVudCBwYXR0ZXJucy4=\").decode())"
   ]
  }
 ],
 "metadata": {
  "kernelspec": {
   "display_name": "base",
   "language": "python",
   "name": "python3"
  },
  "language_info": {
   "codemirror_mode": {
    "name": "ipython",
    "version": 3
   },
   "file_extension": ".py",
   "mimetype": "text/x-python",
   "name": "python",
   "nbconvert_exporter": "python",
   "pygments_lexer": "ipython3",
   "version": "3.9.12"
  }
 },
 "nbformat": 4,
 "nbformat_minor": 5
}
